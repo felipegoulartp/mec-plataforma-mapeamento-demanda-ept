{
 "cells": [
  {
   "cell_type": "code",
   "execution_count": 21,
   "id": "2722222e-cfa3-4c99-9faa-0f7ef425d205",
   "metadata": {},
   "outputs": [
    {
     "name": "stdout",
     "output_type": "stream",
     "text": [
      "--- DADOS DO CENSO ESCOLAR CARREGADOS PELA POSIÇÃO ---\n",
      "Empty DataFrame\n",
      "Columns: [Codigo_Municipio, Municipio_Nome, Total_Matriculas_EPT]\n",
      "Index: []\n",
      "\n",
      "Total de 0 municípios de MG com dados de EPT carregados.\n"
     ]
    }
   ],
   "source": [
    "import pandas as pd\n",
    "\n",
    "# Caminho absoluto para o arquivo do Censo Escolar\n",
    "caminho_absoluto = 'C:/Users/Felps/mec-plataforma-mapeamento-demanda-ept/data/censo_escolar_2023.xlsx'\n",
    "\n",
    "try:\n",
    "    # 1. LEITURA BRUTA, pulando as 13 primeiras linhas para chegar na área de dados\n",
    "    # header=None significa que não vamos ler o cabeçalho, vamos tratar tudo como dados brutos.\n",
    "    df_censo = pd.read_excel(caminho_absoluto, sheet_name='Educação Profissional 1.30', header=None, skiprows=13)\n",
    "\n",
    "    # 2. SELEÇÃO E RENOMEAÇÃO POR POSIÇÃO NUMÉRICA (baseado na sua inspeção)\n",
    "    # Python começa a contar do 0. Então: Coluna B=1, Coluna C=2, Coluna D=3\n",
    "    df_censo = df_censo.rename(columns={\n",
    "        1: 'UF',\n",
    "        2: 'Municipio_Nome',      # Coluna C, como você instruiu\n",
    "        3: 'Codigo_Municipio'     # Coluna D, como você instruiu\n",
    "    })\n",
    "    \n",
    "    # 3. ANÁLISE DOS DADOS\n",
    "    df_mg = df_censo[df_censo['UF'] == 'MG'].copy()\n",
    "    \n",
    "    # As colunas de matrícula começam depois. Vamos encontrar e somar todas elas.\n",
    "    # Selecionamos todas as colunas a partir da 4ª (índice 3) que parecem ser de matrículas\n",
    "    colunas_para_somar = df_mg.columns[4:]\n",
    "    \n",
    "    for col in colunas_para_somar:\n",
    "         df_mg[col] = pd.to_numeric(df_mg[col], errors='coerce').fillna(0)\n",
    "\n",
    "    df_mg['Total_Matriculas_EPT'] = df_mg[colunas_para_somar].sum(axis=1)\n",
    "\n",
    "    # 4. CRIAR A TABELA FINAL\n",
    "    df_final_censo = df_mg[['Codigo_Municipio', 'Municipio_Nome', 'Total_Matriculas_EPT']]\n",
    "    df_final_censo['Total_Matriculas_EPT'] = df_final_censo['Total_Matriculas_EPT'].astype(int)\n",
    "\n",
    "    # 5. EXIBIR O RESULTADO\n",
    "    print(\"--- DADOS DO CENSO ESCOLAR CARREGADOS PELA POSIÇÃO ---\")\n",
    "    print(df_final_censo.head())\n",
    "    print(f\"\\nTotal de {len(df_final_censo)} municípios de MG com dados de EPT carregados.\")\n",
    "\n",
    "except Exception as e:\n",
    "    print(f\"Ocorreu um erro: {e}\")"
   ]
  },
  {
   "cell_type": "code",
   "execution_count": null,
   "id": "e05a0fb4-71ac-41b0-970f-fb387572a625",
   "metadata": {},
   "outputs": [],
   "source": []
  }
 ],
 "metadata": {
  "kernelspec": {
   "display_name": "Python 3 (ipykernel)",
   "language": "python",
   "name": "python3"
  },
  "language_info": {
   "codemirror_mode": {
    "name": "ipython",
    "version": 3
   },
   "file_extension": ".py",
   "mimetype": "text/x-python",
   "name": "python",
   "nbconvert_exporter": "python",
   "pygments_lexer": "ipython3",
   "version": "3.10.2"
  }
 },
 "nbformat": 4,
 "nbformat_minor": 5
}
