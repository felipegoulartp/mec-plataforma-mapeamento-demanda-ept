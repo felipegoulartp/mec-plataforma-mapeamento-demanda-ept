{
 "cells": [
  {
   "cell_type": "code",
   "execution_count": 1,
   "id": "8576f9ec-9628-4fe2-ab44-cd6c58806153",
   "metadata": {},
   "outputs": [
    {
     "name": "stdout",
     "output_type": "stream",
     "text": [
      "--- RESULTADO FINAL DA ANÁLISE ---\n",
      "Top 10 Municípios em Minas Gerais com maior saldo de vagas (Agosto/2025):\n",
      "      UF                     Município Saldo\n",
      "2310  MG             Mg-Belo Horizonte  1479\n",
      "2316  MG                      Mg-Betim   991\n",
      "2744  MG              Mg-Montes Claros   291\n",
      "2605  MG                    Mg-Itabira   279\n",
      "2783  MG                 Mg-Ouro Preto   269\n",
      "2664  MG               Mg-Juiz de Fora   257\n",
      "2764  MG                  Mg-Nova Lima   239\n",
      "2684  MG                 Mg-Leopoldina   221\n",
      "2673  MG              Mg-Lagoa Formosa   217\n",
      "2966  MG  Mg-Sao Goncalo do Rio Abaixo   199\n"
     ]
    },
    {
     "name": "stderr",
     "output_type": "stream",
     "text": [
      "C:\\Users\\Felps\\AppData\\Local\\Programs\\Python\\Python310\\lib\\site-packages\\openpyxl\\worksheet\\header_footer.py:48: UserWarning: Cannot parse header or footer so it will be ignored\n",
      "  warn(\"\"\"Cannot parse header or footer so it will be ignored\"\"\")\n"
     ]
    }
   ],
   "source": [
    "import pandas as pd\n",
    "\n",
    "# 1. DEFINIR O CAMINHO DO ARQUIVO\n",
    "caminho_do_arquivo = 'C:/Users/felps/mec-plataforma-mapeamento-demanda-ept/data/3-tabelas_Agosto de 2025.xlsx'\n",
    "\n",
    "# 2. LER A PLANILHA A PARTIR DA LINHA CORRETA\n",
    "# O header=4 pula as linhas de título e usa a 5ª linha como cabeçalho\n",
    "df = pd.read_excel(caminho_do_arquivo, sheet_name='Tabela 3', header=4)\n",
    "\n",
    "\n",
    "# 3. RENOMEAR A COLUNA DE SALDO\n",
    "# Esta é a correção final: Pegamos a coluna 'Unnamed: 6' e a renomeamos para 'Saldo'\n",
    "df.rename(columns={'Unnamed: 6': 'Saldo'}, inplace=True)\n",
    "\n",
    "\n",
    "# 4. FAZER A ANÁLISE (agora com os nomes corretos)\n",
    "\n",
    "# Filtrar para ver apenas os dados de Minas Gerais (MG)\n",
    "df_mg = df[df['UF'] == 'MG']\n",
    "\n",
    "# Ordenar pelos maiores saldos de vagas, usando a coluna que acabamos de renomear\n",
    "top_10_municipios_mg = df_mg.sort_values(by='Saldo', ascending=False).head(10)\n",
    "\n",
    "\n",
    "# 5. EXIBIR O RESULTADO FINAL\n",
    "print(\"--- RESULTADO FINAL DA ANÁLISE ---\")\n",
    "print(\"Top 10 Municípios em Minas Gerais com maior saldo de vagas (Agosto/2025):\")\n",
    "\n",
    "# Mostra o resultado final, agora com a coluna 'Saldo' correta\n",
    "print(top_10_municipios_mg[['UF', 'Município', 'Saldo']])"
   ]
  },
  {
   "cell_type": "code",
   "execution_count": null,
   "id": "27be8c53-5015-4f6f-a366-81cb40fa1c86",
   "metadata": {},
   "outputs": [],
   "source": []
  }
 ],
 "metadata": {
  "kernelspec": {
   "display_name": "Python 3 (ipykernel)",
   "language": "python",
   "name": "python3"
  },
  "language_info": {
   "codemirror_mode": {
    "name": "ipython",
    "version": 3
   },
   "file_extension": ".py",
   "mimetype": "text/x-python",
   "name": "python",
   "nbconvert_exporter": "python",
   "pygments_lexer": "ipython3",
   "version": "3.10.2"
  }
 },
 "nbformat": 4,
 "nbformat_minor": 5
}
