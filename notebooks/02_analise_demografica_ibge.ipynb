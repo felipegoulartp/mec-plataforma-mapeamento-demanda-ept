{
 "cells": [
  {
   "cell_type": "code",
   "execution_count": 19,
   "id": "3c6d3db4-5b84-475b-8477-c64f10d1793d",
   "metadata": {},
   "outputs": [
    {
     "name": "stdout",
     "output_type": "stream",
     "text": [
      "--- DADOS DE IDADE POR MUNICÍPIO (IBGE) CARREGADOS E PRONTOS! ---\n",
      "           Municipio_Nome  Populacao_15_a_19\n",
      "2244  Abadia dos Dourados                501\n",
      "2245               Abaeté               1462\n",
      "2246           Abre Campo                883\n",
      "2247              Acaiaca                282\n",
      "2248              Açucena                648\n",
      "\n",
      "Total de 853 municípios de MG carregados.\n"
     ]
    }
   ],
   "source": [
    "import pandas as pd\n",
    "\n",
    "# Caminho absoluto para o arquivo de alfabetização\n",
    "caminho_absoluto = 'C:/Users/felps/mec-plataforma-mapeamento-demanda-ept/data/Agregados_por_municipios_alfabetizacao_BR.csv'\n",
    "\n",
    "try:\n",
    "    # 1. Leitura do arquivo CSV, sabendo que o separador é ';'\n",
    "    df_ibge = pd.read_csv(caminho_absoluto, sep=';', encoding='latin-1')\n",
    "\n",
    "    # 2. Filtro para Minas Gerais (código 31)\n",
    "    # O código do município (CD_MUN) em MG sempre começa com '31'. \n",
    "    # Convertemos a coluna para texto para poder fazer essa verificação.\n",
    "    df_mg = df_ibge[df_ibge['CD_MUN'].astype(str).str.startswith('31')].copy()\n",
    "\n",
    "    # 3. Seleção e renomeação das colunas que precisamos\n",
    "    # Usando os códigos que descobrimos ('NM_MUN' e 'V00650')\n",
    "    colunas_uteis = {\n",
    "        'NM_MUN': 'Municipio_Nome',\n",
    "        'V00650': 'Populacao_15_a_19'\n",
    "    }\n",
    "    df_final_mg = df_mg[list(colunas_uteis.keys())].rename(columns=colunas_uteis)\n",
    "    \n",
    "    # 4. Limpeza final dos dados\n",
    "    # Garantir que a coluna de população seja um número\n",
    "    df_final_mg['Populacao_15_a_19'] = pd.to_numeric(df_final_mg['Populacao_15_a_19'], errors='coerce')\n",
    "    df_final_mg.dropna(inplace=True)\n",
    "    df_final_mg['Populacao_15_a_19'] = df_final_mg['Populacao_15_a_19'].astype(int)\n",
    "\n",
    "    # 5. Exibir o resultado final\n",
    "    print(\"--- DADOS DE IDADE POR MUNICÍPIO (IBGE) CARREGADOS E PRONTOS! ---\")\n",
    "    print(df_final_mg.head())\n",
    "    print(f\"\\nTotal de {len(df_final_mg)} municípios de MG carregados.\")\n",
    "\n",
    "except Exception as e:\n",
    "    print(f\"Ocorreu um erro: {e}\")"
   ]
  },
  {
   "cell_type": "code",
   "execution_count": null,
   "id": "98db7a6d-1112-498d-914a-69155a515408",
   "metadata": {},
   "outputs": [],
   "source": []
  }
 ],
 "metadata": {
  "kernelspec": {
   "display_name": "Python 3 (ipykernel)",
   "language": "python",
   "name": "python3"
  },
  "language_info": {
   "codemirror_mode": {
    "name": "ipython",
    "version": 3
   },
   "file_extension": ".py",
   "mimetype": "text/x-python",
   "name": "python",
   "nbconvert_exporter": "python",
   "pygments_lexer": "ipython3",
   "version": "3.10.2"
  }
 },
 "nbformat": 4,
 "nbformat_minor": 5
}
